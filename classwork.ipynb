{
 "cells": [
  {
   "cell_type": "code",
   "execution_count": 1,
   "id": "forty-integral",
   "metadata": {},
   "outputs": [],
   "source": [
    "import numpy as np\n",
    "import matplotlib.pyplot as plt"
   ]
  },
  {
   "cell_type": "code",
   "execution_count": 7,
   "id": "common-kelly",
   "metadata": {},
   "outputs": [],
   "source": [
    "def invc(a, b, c, d, e, f, g, h):\n",
    "    M = np.array([[a, 0, 0, 0], [b, c, 0, 0], [0, d, e, 0], [f, 0, g, h]])\n",
    "    Mi = np.array([[1/a, 0, 0, 0], [-b/(a*c), 1/c, 0, 0], [(b*d)/(a*c*e), -d/(e*c), 1/e, 0], [-(f/a + (g*b*d)/(a*c*e))/h, (d*g)/(e*c*h), -g/(e*h), 1/h]])\n",
    "    return np.round(np.matmul(M, Mi),2)"
   ]
  },
  {
   "cell_type": "code",
   "execution_count": 8,
   "id": "educational-cloud",
   "metadata": {},
   "outputs": [
    {
     "data": {
      "text/plain": [
       "array([[ 1.,  0.,  0.,  0.],\n",
       "       [-0.,  1.,  0.,  0.],\n",
       "       [-0.,  0.,  1.,  0.],\n",
       "       [ 0.,  0.,  0.,  1.]])"
      ]
     },
     "execution_count": 8,
     "metadata": {},
     "output_type": "execute_result"
    }
   ],
   "source": [
    "invc(3,5,2,7,4,6,8,9)"
   ]
  },
  {
   "cell_type": "code",
   "execution_count": 51,
   "id": "closed-karma",
   "metadata": {},
   "outputs": [
    {
     "data": {
      "text/plain": [
       "array([19,  0, 24, 14,  5, 16,  5,  3, 24, 20])"
      ]
     },
     "execution_count": 51,
     "metadata": {},
     "output_type": "execute_result"
    }
   ],
   "source": [
    "x = np.random.randint(0, 25, (10))\n",
    "x"
   ]
  },
  {
   "cell_type": "code",
   "execution_count": 52,
   "id": "familiar-horror",
   "metadata": {},
   "outputs": [],
   "source": [
    "y = [x[i] + 2*np.random.uniform(-1,1) for i in range(len(x))] "
   ]
  },
  {
   "cell_type": "code",
   "execution_count": null,
   "id": "early-lewis",
   "metadata": {},
   "outputs": [],
   "source": []
  },
  {
   "cell_type": "code",
   "execution_count": 53,
   "id": "analyzed-marijuana",
   "metadata": {},
   "outputs": [
    {
     "data": {
      "text/plain": [
       "<matplotlib.collections.PathCollection at 0x7f68db7aa520>"
      ]
     },
     "execution_count": 53,
     "metadata": {},
     "output_type": "execute_result"
    },
    {
     "data": {
      "image/png": "[encoded data removed]",
      "text/plain": [
       "<Figure size 432x288 with 1 Axes>"
      ]
     },
     "metadata": {
      "needs_background": "light"
     },
     "output_type": "display_data"
    }
   ],
   "source": [
    "plt.scatter(x, y)"
   ]
  },
  {
   "cell_type": "code",
   "execution_count": null,
   "id": "demanding-pizza",
   "metadata": {},
   "outputs": [],
   "source": []
  },
  {
   "cell_type": "code",
   "execution_count": null,
   "id": "asian-simple",
   "metadata": {},
   "outputs": [],
   "source": []
  }
 ],
 "metadata": {
  "kernelspec": {
   "display_name": "Python 3",
   "language": "python",
   "name": "python3"
  },
  "language_info": {
   "codemirror_mode": {
    "name": "ipython",
    "version": 3
   },
   "file_extension": ".py",
   "mimetype": "text/x-python",
   "name": "python",
   "nbconvert_exporter": "python",
   "pygments_lexer": "ipython3",
   "version": "3.9.5"
  }
 },
 "nbformat": 4,
 "nbformat_minor": 5
}
